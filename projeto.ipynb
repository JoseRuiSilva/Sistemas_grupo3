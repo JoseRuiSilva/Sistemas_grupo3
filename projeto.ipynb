{
 "cells": [
  {
   "cell_type": "code",
   "execution_count": 3,
   "id": "5f9798ac",
   "metadata": {},
   "outputs": [],
   "source": [
    "import warnings\n",
    "warnings.filterwarnings(\"ignore\", category=RuntimeWarning)"
   ]
  },
  {
   "cell_type": "markdown",
   "id": "2bddf1cd",
   "metadata": {},
   "source": [
    "# Importação dos dados"
   ]
  },
  {
   "cell_type": "code",
   "execution_count": 4,
   "id": "a136a2df",
   "metadata": {},
   "outputs": [],
   "source": [
    "import pandas as pd\n",
    "\n",
    "df_energia21 = pd.read_csv('energia_202109-202112.csv', encoding='latin-1', keep_default_na=False) # keep_default_na=False para que o \"None\" apareca na injecao inves de \"NAN\"\n",
    "df_energia22 = pd.read_csv('energia_202201-202212.csv', encoding='latin-1', keep_default_na=False)\n",
    "df_energia_teste = pd.read_csv('energia_202301-202304.csv', encoding='latin-1')\n",
    "\n",
    "df_meteo21 = pd.read_csv('meteo_202109-202112.csv', encoding='latin-1')\n",
    "df_meteo22 = pd.read_csv('meteo_202201-202212.csv', encoding='latin-1')\n",
    "df_meteo_teste = pd.read_csv('meteo_202301-202304.csv', encoding='latin-1')"
   ]
  },
  {
   "cell_type": "markdown",
   "id": "156e41ab",
   "metadata": {},
   "source": [
    "# Merge do Dataset"
   ]
  },
  {
   "cell_type": "code",
   "execution_count": 5,
   "id": "615d1f14",
   "metadata": {},
   "outputs": [],
   "source": [
    "df_energia_merged = pd.concat([df_energia21, df_energia22], ignore_index=True)\n",
    "df_meteo_merged = pd.concat([df_meteo21, df_meteo22], ignore_index=True)"
   ]
  },
  {
   "cell_type": "code",
   "execution_count": 6,
   "id": "b8a629bc",
   "metadata": {},
   "outputs": [],
   "source": [
    "df_energia_merged['DataHora'] = pd.to_datetime(df_energia_merged['Data'] + ' ' + df_energia_merged['Hora'].astype(str) + ':00:00')\n",
    "df_meteo_merged['DataHora'] = pd.to_datetime(df_meteo_merged['dt_iso'].str.replace(' +0000 UTC', '', regex=False))\n",
    "df_treino = pd.merge(df_energia_merged, df_meteo_merged, on='DataHora', how='outer')\n",
    "\n",
    "# Reordena as colunas para por DataHora como a primeira\n",
    "cols = ['DataHora'] + [col for col in df_treino.columns if col != 'DataHora']\n",
    "df_treino = df_treino[cols]"
   ]
  },
  {
   "cell_type": "code",
   "execution_count": 8,
   "id": "39408d7f",
   "metadata": {},
   "outputs": [],
   "source": [
    "df_energia_teste['DataHora'] = pd.to_datetime(df_energia_teste['Data'] + ' ' + df_energia_teste['Hora'].astype(str) + ':00:00')\n",
    "df_meteo_teste['DataHora'] = pd.to_datetime(df_meteo_teste['dt_iso'].str.replace(' +0000 UTC', '', regex=False))\n",
    "\n",
    "df_teste = pd.merge(df_energia_teste, df_meteo_teste, on='DataHora', how='outer')\n",
    "\n",
    "# Reordena as colunas para por DataHora como a primeira\n",
    "cols = ['DataHora'] + [col for col in df_teste.columns if col != 'DataHora']\n",
    "df_final = df_teste[cols]"
   ]
  },
  {
   "cell_type": "markdown",
   "id": "3c1dade6",
   "metadata": {},
   "source": [
    "# Análise Exploratória dos Dados"
   ]
  },
  {
   "cell_type": "code",
   "execution_count": null,
   "id": "361addbb",
   "metadata": {},
   "outputs": [],
   "source": []
  }
 ],
 "metadata": {
  "kernelspec": {
   "display_name": "lcd_scaa",
   "language": "python",
   "name": "python3"
  },
  "language_info": {
   "codemirror_mode": {
    "name": "ipython",
    "version": 3
   },
   "file_extension": ".py",
   "mimetype": "text/x-python",
   "name": "python",
   "nbconvert_exporter": "python",
   "pygments_lexer": "ipython3",
   "version": "3.12.12"
  }
 },
 "nbformat": 4,
 "nbformat_minor": 5
}
